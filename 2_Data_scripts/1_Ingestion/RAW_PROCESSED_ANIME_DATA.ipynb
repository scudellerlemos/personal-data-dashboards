{
 "cells": [
  {
   "cell_type": "code",
   "execution_count": 0,
   "metadata": {
    "application/vnd.databricks.v1+cell": {
     "cellMetadata": {
      "byteLimit": 2048000,
      "rowLimit": 10000
     },
     "inputWidgets": {},
     "nuid": "246264f3-2ff8-413e-b848-e001492e288b",
     "showTitle": true,
     "title": "Libs"
    }
   },
   "outputs": [],
   "source": [
    "import polars as pl\n",
    "from google.cloud import storage\n",
    "import json\n",
    "import os"
   ]
  },
  {
   "cell_type": "code",
   "execution_count": 0,
   "metadata": {
    "application/vnd.databricks.v1+cell": {
     "cellMetadata": {
      "byteLimit": 2048000,
      "rowLimit": 10000
     },
     "inputWidgets": {},
     "nuid": "cedac401-b6a9-4d19-81cd-95ccc0e10d03",
     "showTitle": true,
     "title": "Habilitar credenciais doe Storage"
    }
   },
   "outputs": [],
   "source": [
    "# Substitua pelo caminho do seu arquivo de chave JSON\n",
    "service_account_key_file = \"/dbfs/key_account/chave_gcp_final.json\"\n",
    "\n",
    "# Configurar credenciais\n",
    "storage_client = storage.Client.from_service_account_json(service_account_key_file)\n"
   ]
  },
  {
   "cell_type": "code",
   "execution_count": 0,
   "metadata": {
    "application/vnd.databricks.v1+cell": {
     "cellMetadata": {
      "byteLimit": 2048000,
      "rowLimit": 10000
     },
     "inputWidgets": {},
     "nuid": "53633255-2d11-4389-9c38-097414ad73fa",
     "showTitle": true,
     "title": "Leitura dos dados no STORAGE"
    }
   },
   "outputs": [],
   "source": [
    "# Nome do bucket e do arquivo\n",
    "bucket_name = 'raw_bronze_files'\n",
    "arquivo_especifico = 'anime_data.json'\n",
    "bucket_destino = 'raw_bronze_processed_files'\n",
    "arquivo_destino = 'RAW_PROCESSED_ANIME_DATA.parquet'\n",
    "\n",
    "\n",
    "# URI completa do arquivo JSON\n",
    "gcs_uri_json = f'gs://{bucket_name}/{arquivo_especifico}'\n",
    "\n",
    "# Baixar o arquivo JSON para o local temporário\n",
    "bucket = storage_client.bucket(bucket_name)\n",
    "blob = bucket.blob(arquivo_especifico)\n",
    "blob.download_to_filename('/tmp/anime_data.json')\n",
    "                          \n",
    "# Ler o arquivo JSON no DataFrame do Polars\n",
    "df = pl.read_json('/tmp/anime_data.json')"
   ]
  },
  {
   "cell_type": "code",
   "execution_count": 0,
   "metadata": {
    "application/vnd.databricks.v1+cell": {
     "cellMetadata": {
      "byteLimit": 2048000,
      "rowLimit": 10000
     },
     "inputWidgets": {},
     "nuid": "52b62c4f-d8d0-4085-8b6b-238d05862d62",
     "showTitle": true,
     "title": "Processamento em PARQUET"
    }
   },
   "outputs": [],
   "source": [
    "# Ler o arquivo JSON no DataFrame do Polars\n",
    "df = pl.read_json('/tmp/anime_data.json')\n",
    "\n",
    "# Caminho completo de destino no GCS\n",
    "gcs_uri_parquet = f'gs://{bucket_destino}/{arquivo_destino}'\n",
    "\n",
    "# Salvar o DataFrame como Parquet no bucket de destino\n",
    "df.write_parquet('/tmp/RAW_PROCESSED_ANIME_DATA.parquet')\n",
    "\n",
    "# Enviar o arquivo Parquet para o GCS\n",
    "bucket_destino_obj = storage_client.bucket(bucket_destino)\n",
    "blob_destino = bucket_destino_obj.blob(arquivo_destino)\n",
    "blob_destino.upload_from_filename('/tmp/RAW_PROCESSED_ANIME_DATA.parquet')"
   ]
  },
  {
   "cell_type": "code",
   "execution_count": 0,
   "metadata": {
    "application/vnd.databricks.v1+cell": {
     "cellMetadata": {
      "byteLimit": 2048000,
      "rowLimit": 10000
     },
     "inputWidgets": {},
     "nuid": "cd7e8df3-fe36-4f3a-a155-e95b40125267",
     "showTitle": true,
     "title": "Deletar os arquivos temporarios"
    }
   },
   "outputs": [
    {
     "output_type": "stream",
     "name": "stdout",
     "output_type": "stream",
     "text": [
      "Arquivos temporários deletados.\n"
     ]
    }
   ],
   "source": [
    "# Deletar arquivos temporários\n",
    "os.remove('/tmp/anime_data.json')\n",
    "os.remove('/tmp/RAW_PROCESSED_ANIME_DATA.parquet')\n",
    "\n",
    "\n",
    "print(\"Arquivos temporários deletados.\")"
   ]
  }
 ],
 "metadata": {
  "application/vnd.databricks.v1+notebook": {
   "dashboards": [],
   "environmentMetadata": {
    "base_environment": "",
    "client": "1"
   },
   "language": "python",
   "notebookMetadata": {
    "pythonIndentUnit": 4
   },
   "notebookName": "RAW_PROCESSED_ANIME_DATA",
   "widgets": {}
  }
 },
 "nbformat": 4,
 "nbformat_minor": 0
}
