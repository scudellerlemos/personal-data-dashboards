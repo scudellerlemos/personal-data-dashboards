{
 "cells": [
  {
   "cell_type": "code",
   "execution_count": 0,
   "metadata": {
    "application/vnd.databricks.v1+cell": {
     "cellMetadata": {
      "byteLimit": 2048000,
      "rowLimit": 10000
     },
     "inputWidgets": {},
     "nuid": "246264f3-2ff8-413e-b848-e001492e288b",
     "showTitle": true,
     "title": "Libs"
    }
   },
   "outputs": [],
   "source": [
    "import requests \n",
    "import json\n",
    "from google.cloud import storage\n",
    "from google.oauth2 import service_account\n",
    "from pyspark.dbutils import DBUtils\n",
    "import os"
   ]
  },
  {
   "cell_type": "code",
   "execution_count": 0,
   "metadata": {
    "application/vnd.databricks.v1+cell": {
     "cellMetadata": {
      "byteLimit": 2048000,
      "rowLimit": 10000
     },
     "inputWidgets": {},
     "nuid": "cedac401-b6a9-4d19-81cd-95ccc0e10d03",
     "showTitle": true,
     "title": "Integração com STORAGE da GCP"
    }
   },
   "outputs": [],
   "source": [
    "#Instancia DBUtils\n",
    "dbutils = DBUtils()\n",
    "\n",
    "# Chave de acesso ao GCP\n",
    "key_path =  \"/dbfs/key_account/chave_gcp_final.json\"\n",
    "\n",
    "\n",
    "# Configuração do ambiente GCP com a chave de acesso\n",
    "os.environ[\"GOOGLE_APPLICATION_CREDENTIALS\"] = key_path\n",
    "\n",
    "# Efetuar o login com as credenciais\n",
    "credentials = service_account.Credentials.from_service_account_file(key_path)\n",
    "client = storage.Client(credentials=credentials)\n"
   ]
  },
  {
   "cell_type": "code",
   "execution_count": 0,
   "metadata": {
    "application/vnd.databricks.v1+cell": {
     "cellMetadata": {
      "byteLimit": 2048000,
      "rowLimit": 10000
     },
     "inputWidgets": {},
     "nuid": "53633255-2d11-4389-9c38-097414ad73fa",
     "showTitle": true,
     "title": "Criando Folder de arquivos arquivos temporarios"
    }
   },
   "outputs": [
    {
     "output_type": "stream",
     "name": "stdout",
     "output_type": "stream",
     "text": [
      "Pasta existe neste caminho: /temp.\n"
     ]
    }
   ],
   "source": [
    "#Folder\n",
    "folder_path = \"/temp\"\n",
    "\n",
    "# Tenta listar a pasta no DBFS ou cria se não existir\n",
    "try:\n",
    "    dbutils.fs.ls(folder_path)\n",
    "    print(f\"Pasta existe neste caminho: {folder_path}.\")\n",
    "except Exception as e:\n",
    "    dbutils.fs.mkdirs(folder_path)\n",
    "    print(f\"Pasta criada em: {folder_path}.\")"
   ]
  },
  {
   "cell_type": "code",
   "execution_count": 0,
   "metadata": {
    "application/vnd.databricks.v1+cell": {
     "cellMetadata": {
      "byteLimit": 2048000,
      "rowLimit": 10000
     },
     "inputWidgets": {},
     "nuid": "52b62c4f-d8d0-4085-8b6b-238d05862d62",
     "showTitle": true,
     "title": "API response e QUERY"
    }
   },
   "outputs": [],
   "source": [
    "# URL da API da AniList para buscar a lista de animes assistidos de um usuário\n",
    "url = 'https://graphql.anilist.co'\n",
    "\n",
    "query = '''\n",
    "query ($username: String) {\n",
    "  MediaListCollection(userName: $username, type: ANIME, status: COMPLETED) {\n",
    "    lists {\n",
    "      entries {\n",
    "        media {\n",
    "          title {\n",
    "            romaji\n",
    "            english\n",
    "          }\n",
    "          episodes\n",
    "          coverImage {\n",
    "            large\n",
    "          }\n",
    "          averageScore\n",
    "          genres\n",
    "          startDate {\n",
    "            year\n",
    "          }\n",
    "          studios(isMain: true) {\n",
    "            nodes {\n",
    "              name\n",
    "            }\n",
    "          }\n",
    "          description\n",
    "          relations {\n",
    "            edges {\n",
    "              node {\n",
    "                title {\n",
    "                  romaji\n",
    "                  english\n",
    "                }\n",
    "                type\n",
    "                siteUrl\n",
    "                coverImage {\n",
    "                  large\n",
    "                }\n",
    "              }\n",
    "              relationType\n",
    "            }\n",
    "          }\n",
    "          popularity\n",
    "          season\n",
    "          seasonYear\n",
    "          duration\n",
    "          trending\n",
    "          source\n",
    "          favourites\n",
    "        }\n",
    "        completedAt {\n",
    "          year\n",
    "          month\n",
    "          day\n",
    "        }\n",
    "        score\n",
    "      }\n",
    "    }\n",
    "  }\n",
    "}\n",
    "'''\n",
    "\n",
    "\n",
    "# Variáveis da consulta, incluindo o nome de usuário\n",
    "variables = {\n",
    "    'username': 'Gajs'\n",
    "}\n",
    "\n",
    "# Faz a requisição para a API da AniList\n",
    "response = requests.post(url, json={'query': query, 'variables': variables})\n"
   ]
  },
  {
   "cell_type": "code",
   "execution_count": 0,
   "metadata": {
    "application/vnd.databricks.v1+cell": {
     "cellMetadata": {
      "byteLimit": 2048000,
      "rowLimit": 10000
     },
     "inputWidgets": {},
     "nuid": "a6a5ca30-4ba0-4066-a496-8895f5635caf",
     "showTitle": true,
     "title": "Salva Ingestão em JSON e armazena no STORAGE com RAW bucket"
    }
   },
   "outputs": [
    {
     "output_type": "stream",
     "name": "stdout",
     "output_type": "stream",
     "text": [
      "Arquivo salvo em gs://raw_bronze_files/anime_data.json\n"
     ]
    }
   ],
   "source": [
    " # Configuração do cliente do Google Cloud Storage\n",
    "client = storage.Client()\n",
    "    \n",
    "# Nome do bucket no Google Cloud Storage\n",
    "bucket_name = 'raw_bronze_files'\n",
    "bucket = client.bucket(bucket_name)\n",
    "    \n",
    "# Nome do arquivo no GCS \n",
    "gcs_file_path = 'anime_data.json'\n",
    "    \n",
    "# Caminho completo do arquivo local no DBFS\n",
    "local_file_path = f\"{folder_path}/anime_data.json\"\n",
    "    \n",
    "# Verificar se o arquivo local existe no DBFS\n",
    "try:\n",
    "    dbutils.fs.ls(local_file_path)\n",
    "    file_exists = True\n",
    "except Exception as e:\n",
    "    file_exists = False\n",
    "    \n",
    "if file_exists:\n",
    "    # Fazer o upload do arquivo para o GCS\n",
    "    temp_local_path = \"/dbfs\" + local_file_path\n",
    "    blob = bucket.blob(gcs_file_path)\n",
    "    blob.upload_from_filename(temp_local_path)  \n",
    "    \n",
    "    print(f'Arquivo salvo em gs://{bucket_name}/{gcs_file_path}')\n",
    "else:\n",
    "    print(f'O arquivo {local_file_path} não existe.')   "
   ]
  }
 ],
 "metadata": {
  "application/vnd.databricks.v1+notebook": {
   "dashboards": [],
   "environmentMetadata": {
    "base_environment": "",
    "client": "1"
   },
   "language": "python",
   "notebookMetadata": {
    "pythonIndentUnit": 4
   },
   "notebookName": "Ingestao_animes_data",
   "widgets": {}
  }
 },
 "nbformat": 4,
 "nbformat_minor": 0
}
